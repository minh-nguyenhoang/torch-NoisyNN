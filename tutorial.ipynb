{
 "cells": [
  {
   "cell_type": "markdown",
   "metadata": {},
   "source": [
    "# Import dependencies and instantiate model and import"
   ]
  },
  {
   "cell_type": "code",
   "execution_count": 1,
   "metadata": {},
   "outputs": [],
   "source": [
    "import torch\n",
    "import noisynn as nnn \n",
    "import timm \n",
    "\n",
    "model = timm.create_model('convnext_base.fb_in22k_ft_in1k', pretrained=False)\n",
    "inp = torch.rand(4,3,224,224)"
   ]
  },
  {
   "cell_type": "markdown",
   "metadata": {},
   "source": [
    "To check the name of the layer you want to add NoisyNN to, use model.named_modules() to get the name of the layer you want to add NoisyNN to.\n",
    "\n",
    "In this tutorial, I choose the layers to be `layers = ['stages.3.blocks.2','stages.2.blocks.26']` of the ConvNeXt-B model from `timm`."
   ]
  },
  {
   "cell_type": "code",
   "execution_count": 2,
   "metadata": {},
   "outputs": [],
   "source": [
    "# print(dict(model.named_modules()).keys())\n",
    "\n",
    "layers = ['stages.3.blocks.2','stages.2.blocks.26']"
   ]
  },
  {
   "cell_type": "markdown",
   "metadata": {},
   "source": [
    "# Manage NoisyNN "
   ]
  },
  {
   "cell_type": "markdown",
   "metadata": {},
   "source": [
    "## Manually"
   ]
  },
  {
   "cell_type": "markdown",
   "metadata": {},
   "source": [
    "### Instantiate NoisyNN instances to the model\n",
    "\n",
    "`n_layers_inject_per_batch`: max number of layers activated NoisyNN in a batch. The real number of layers activated will be `max(len(layers), n_layers_inject_per_batch)`\n",
    "\n",
    "`add_noise_fn`: a `Callale` that do transformation on the layer(s) output specified above. If `None`, default add_noise function will be used. More in `default_function.py`\n",
    "\n",
    "`debug_fn`: a `Callale` that is called when in debug mode. If `None`, default debug function will be used. More in `default_function.py` "
   ]
  },
  {
   "cell_type": "code",
   "execution_count": 3,
   "metadata": {},
   "outputs": [
    {
     "name": "stdout",
     "output_type": "stream",
     "text": [
      "<--Trying to inject NoisyNN instances!-->\n",
      "---NoisyNN instance injected onto layer stages.2.blocks.26.---\n",
      "---NoisyNN instance injected onto layer stages.3.blocks.2.---\n",
      "<--All chosen layers are injected with NoisyNN instance!-->\n"
     ]
    }
   ],
   "source": [
    "nnn.inject_noisy_nn(model=model, layers_name= layers, n_layers_inject_per_batch= 1, add_noise_fn= None, debug_fn= None, inplace= True, verbose= True);\n",
    "# model_new = nnn.inject_noisy_nn(model=model, layers_name= layers, n_layers_inject_per_batch= 1, inplace= False, verbose= True)   <-- In case you don't want to mess with the original model"
   ]
  },
  {
   "cell_type": "markdown",
   "metadata": {},
   "source": [
    "### Doing what ever you want here with NoisyNN injected model"
   ]
  },
  {
   "cell_type": "code",
   "execution_count": 4,
   "metadata": {},
   "outputs": [
    {
     "name": "stdout",
     "output_type": "stream",
     "text": [
      "Layer stages.2.blocks.26 is chosen!\n"
     ]
    }
   ],
   "source": [
    "with nnn.debug_mode(True):   # <-- Just call the debug function, in this case will print the chosen layer.\n",
    "    model(inp);"
   ]
  },
  {
   "cell_type": "markdown",
   "metadata": {},
   "source": [
    "### Remove NoisyNN instances from the model"
   ]
  },
  {
   "cell_type": "code",
   "execution_count": 5,
   "metadata": {},
   "outputs": [
    {
     "name": "stdout",
     "output_type": "stream",
     "text": [
      "<---Trying to remove NoisyNN!!!--->\n",
      "---NoisyNN instance removed from layer stages.2.blocks.26.---\n",
      "---NoisyNN instance removed from layer stages.3.blocks.2.---\n",
      "<--All injected NoisyNN instances have been removed!-->\n"
     ]
    }
   ],
   "source": [
    "nnn.remove_noisy_nn(model=model, inplace= True, verbose= True);\n",
    "# model_new = nnn.remove_noisy_nn(model=model, inplace= False, verbose= True)  <-- In case you want to keep the NoisyNN injected model?"
   ]
  },
  {
   "cell_type": "markdown",
   "metadata": {},
   "source": [
    "## Automatically"
   ]
  },
  {
   "cell_type": "markdown",
   "metadata": {},
   "source": [
    "### As a context manager"
   ]
  },
  {
   "cell_type": "code",
   "execution_count": 6,
   "metadata": {},
   "outputs": [
    {
     "name": "stdout",
     "output_type": "stream",
     "text": [
      "<--Trying to inject NoisyNN instances!-->\n",
      "---NoisyNN instance injected onto layer stages.2.blocks.26.---\n",
      "---NoisyNN instance injected onto layer stages.3.blocks.2.---\n",
      "<--All chosen layers are injected with NoisyNN instance!-->\n",
      "Layer stages.3.blocks.2 is chosen!\n",
      "<---Trying to remove NoisyNN!!!--->\n",
      "---NoisyNN instance removed from layer stages.2.blocks.26.---\n",
      "---NoisyNN instance removed from layer stages.3.blocks.2.---\n",
      "<--All injected NoisyNN instances have been removed!-->\n"
     ]
    }
   ],
   "source": [
    "with nnn.noisy_nn(model, layers_name= layers, add_noise_fn= None, debug_fn= None):\n",
    "    with nnn.debug_mode(enabled= True): # <-- Just call the debug function, in this case will print the chosen layer.\n",
    "        model(inp);"
   ]
  },
  {
   "cell_type": "markdown",
   "metadata": {},
   "source": [
    "### As a decorator"
   ]
  },
  {
   "cell_type": "code",
   "execution_count": 7,
   "metadata": {},
   "outputs": [
    {
     "name": "stdout",
     "output_type": "stream",
     "text": [
      "<--Trying to inject NoisyNN instances!-->\n",
      "---NoisyNN instance injected onto layer stages.2.blocks.26.---\n",
      "---NoisyNN instance injected onto layer stages.3.blocks.2.---\n",
      "<--All chosen layers are injected with NoisyNN instance!-->\n",
      "Layer stages.3.blocks.2 is chosen!\n",
      "<---Trying to remove NoisyNN!!!--->\n",
      "---NoisyNN instance removed from layer stages.2.blocks.26.---\n",
      "---NoisyNN instance removed from layer stages.3.blocks.2.---\n",
      "<--All injected NoisyNN instances have been removed!-->\n"
     ]
    }
   ],
   "source": [
    "@nnn.noisy_nn(model, layers_name= layers, add_noise_fn= None, debug_fn= None)\n",
    "def infer():\n",
    "    model(inp);\n",
    "\n",
    "with nnn.debug_mode(enabled= True): # <-- Just call the debug function, in this case will print the chosen layer.\n",
    "    infer()"
   ]
  },
  {
   "cell_type": "markdown",
   "metadata": {},
   "source": [
    "# Debugging NoisyNN \n"
   ]
  },
  {
   "cell_type": "markdown",
   "metadata": {},
   "source": [
    "## Debug mode\n",
    "Currently, default debugging only support printing out the chosen layer name. For further customization, see `default_function.py`"
   ]
  },
  {
   "cell_type": "markdown",
   "metadata": {},
   "source": [
    "### Global mode"
   ]
  },
  {
   "cell_type": "code",
   "execution_count": 8,
   "metadata": {},
   "outputs": [
    {
     "name": "stdout",
     "output_type": "stream",
     "text": [
      "<--Trying to inject NoisyNN instances!-->\n",
      "---NoisyNN instance injected onto layer stages.2.blocks.26.---\n",
      "---NoisyNN instance injected onto layer stages.3.blocks.2.---\n",
      "<--All chosen layers are injected with NoisyNN instance!-->\n",
      "Layer stages.2.blocks.26 is chosen!\n",
      "<---Trying to remove NoisyNN!!!--->\n",
      "---NoisyNN instance removed from layer stages.2.blocks.26.---\n",
      "---NoisyNN instance removed from layer stages.3.blocks.2.---\n",
      "<--All injected NoisyNN instances have been removed!-->\n",
      "<--Trying to inject NoisyNN instances!-->\n",
      "---NoisyNN instance injected onto layer stages.2.blocks.26.---\n",
      "---NoisyNN instance injected onto layer stages.3.blocks.2.---\n",
      "<--All chosen layers are injected with NoisyNN instance!-->\n",
      "<---Trying to remove NoisyNN!!!--->\n",
      "---NoisyNN instance removed from layer stages.2.blocks.26.---\n",
      "---NoisyNN instance removed from layer stages.3.blocks.2.---\n",
      "<--All injected NoisyNN instances have been removed!-->\n"
     ]
    }
   ],
   "source": [
    "# Entering debug mode by using\n",
    "nnn.enable_debug_mode()\n",
    "#or\n",
    "# nnn.debug_mode(enabled= True) #<-- This support for deciding fallback debug mode\n",
    "\n",
    "#Your code execution with debug here\n",
    "infer()\n",
    "\n",
    "# Disable debug mode by using\n",
    "nnn.disable_debug_mode()\n",
    "\n",
    "infer() # <-- No debug here"
   ]
  },
  {
   "cell_type": "markdown",
   "metadata": {},
   "source": [
    "### As a context manager\n",
    "\n",
    "See above section for example usage"
   ]
  },
  {
   "cell_type": "markdown",
   "metadata": {},
   "source": [
    "### As a decorator"
   ]
  },
  {
   "cell_type": "code",
   "execution_count": 9,
   "metadata": {},
   "outputs": [
    {
     "name": "stdout",
     "output_type": "stream",
     "text": [
      "<--Trying to inject NoisyNN instances!-->\n",
      "---NoisyNN instance injected onto layer stages.2.blocks.26.---\n",
      "---NoisyNN instance injected onto layer stages.3.blocks.2.---\n",
      "<--All chosen layers are injected with NoisyNN instance!-->\n",
      "Layer stages.3.blocks.2 is chosen!\n",
      "<---Trying to remove NoisyNN!!!--->\n",
      "---NoisyNN instance removed from layer stages.2.blocks.26.---\n",
      "---NoisyNN instance removed from layer stages.3.blocks.2.---\n",
      "<--All injected NoisyNN instances have been removed!-->\n"
     ]
    }
   ],
   "source": [
    "@nnn.debug_mode(enabled= True)\n",
    "@nnn.noisy_nn(model, layers_name= layers, add_noise_fn= None, debug_fn= None)\n",
    "def infer():\n",
    "    model(inp);\n",
    "infer()"
   ]
  },
  {
   "cell_type": "markdown",
   "metadata": {},
   "source": [
    "## Safety checker\n",
    "\n",
    "Current implementation have three `level`s of safety checker: \n",
    "- `0`  &emsp;&emsp;&emsp;&ensp;&ensp; : No safety checker at all.\n",
    "- `1`   (default) &ensp;: Only warnings if there is a mismatch (type, shape, etc.) between output before and after adding noise, excluding the data.\n",
    "- `2`  &emsp;&emsp;&emsp;&ensp;&ensp; : Raise error if there is a mismatch (type, shape, etc.) between output before and after adding noise, but not the content/data."
   ]
  },
  {
   "cell_type": "markdown",
   "metadata": {},
   "source": [
    "The syntax should be identical to debug_mode, please see the above examples for usage."
   ]
  }
 ],
 "metadata": {
  "kernelspec": {
   "display_name": "base",
   "language": "python",
   "name": "python3"
  },
  "language_info": {
   "codemirror_mode": {
    "name": "ipython",
    "version": 3
   },
   "file_extension": ".py",
   "mimetype": "text/x-python",
   "name": "python",
   "nbconvert_exporter": "python",
   "pygments_lexer": "ipython3",
   "version": "3.11.5"
  }
 },
 "nbformat": 4,
 "nbformat_minor": 2
}
