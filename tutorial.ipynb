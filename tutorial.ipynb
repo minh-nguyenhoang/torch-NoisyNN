{
 "cells": [
  {
   "cell_type": "markdown",
   "metadata": {},
   "source": [
    "# Import dependencies and instantiate model and import"
   ]
  },
  {
   "cell_type": "code",
   "execution_count": 1,
   "metadata": {},
   "outputs": [
    {
     "name": "stderr",
     "output_type": "stream",
     "text": [
      "c:\\Users\\MinhNH\\AppData\\Local\\miniconda3\\Lib\\site-packages\\tqdm\\auto.py:21: TqdmWarning: IProgress not found. Please update jupyter and ipywidgets. See https://ipywidgets.readthedocs.io/en/stable/user_install.html\n",
      "  from .autonotebook import tqdm as notebook_tqdm\n"
     ]
    }
   ],
   "source": [
    "import torch\n",
    "import noisynn as nnn \n",
    "import timm \n",
    "\n",
    "model = timm.create_model('convnext_base.fb_in22k_ft_in1k', pretrained=False)\n",
    "inp = torch.rand(4,3,224,224)"
   ]
  },
  {
   "cell_type": "markdown",
   "metadata": {},
   "source": [
    "To check the name of the layer you want to add NoisyNN to, use model.named_modules() to get the name of the layer you want to add NoisyNN to.\n",
    "\n",
    "In this tutorial, I choose the layers to be `layers = ['stages.3.blocks.2','stages.2.blocks.26']` of the ConvNeXt-B model from `timm`."
   ]
  },
  {
   "cell_type": "code",
   "execution_count": 2,
   "metadata": {},
   "outputs": [
    {
     "name": "stdout",
     "output_type": "stream",
     "text": [
      "dict_keys(['', 'stem', 'stem.0', 'stem.1', 'stages', 'stages.0', 'stages.0.downsample', 'stages.0.blocks', 'stages.0.blocks.0', 'stages.0.blocks.0.conv_dw', 'stages.0.blocks.0.norm', 'stages.0.blocks.0.mlp', 'stages.0.blocks.0.mlp.fc1', 'stages.0.blocks.0.mlp.act', 'stages.0.blocks.0.mlp.drop1', 'stages.0.blocks.0.mlp.norm', 'stages.0.blocks.0.mlp.fc2', 'stages.0.blocks.0.mlp.drop2', 'stages.0.blocks.0.shortcut', 'stages.0.blocks.0.drop_path', 'stages.0.blocks.1', 'stages.0.blocks.1.conv_dw', 'stages.0.blocks.1.norm', 'stages.0.blocks.1.mlp', 'stages.0.blocks.1.mlp.fc1', 'stages.0.blocks.1.mlp.act', 'stages.0.blocks.1.mlp.drop1', 'stages.0.blocks.1.mlp.norm', 'stages.0.blocks.1.mlp.fc2', 'stages.0.blocks.1.mlp.drop2', 'stages.0.blocks.1.shortcut', 'stages.0.blocks.1.drop_path', 'stages.0.blocks.2', 'stages.0.blocks.2.conv_dw', 'stages.0.blocks.2.norm', 'stages.0.blocks.2.mlp', 'stages.0.blocks.2.mlp.fc1', 'stages.0.blocks.2.mlp.act', 'stages.0.blocks.2.mlp.drop1', 'stages.0.blocks.2.mlp.norm', 'stages.0.blocks.2.mlp.fc2', 'stages.0.blocks.2.mlp.drop2', 'stages.0.blocks.2.shortcut', 'stages.0.blocks.2.drop_path', 'stages.1', 'stages.1.downsample', 'stages.1.downsample.0', 'stages.1.downsample.1', 'stages.1.blocks', 'stages.1.blocks.0', 'stages.1.blocks.0.conv_dw', 'stages.1.blocks.0.norm', 'stages.1.blocks.0.mlp', 'stages.1.blocks.0.mlp.fc1', 'stages.1.blocks.0.mlp.act', 'stages.1.blocks.0.mlp.drop1', 'stages.1.blocks.0.mlp.norm', 'stages.1.blocks.0.mlp.fc2', 'stages.1.blocks.0.mlp.drop2', 'stages.1.blocks.0.shortcut', 'stages.1.blocks.0.drop_path', 'stages.1.blocks.1', 'stages.1.blocks.1.conv_dw', 'stages.1.blocks.1.norm', 'stages.1.blocks.1.mlp', 'stages.1.blocks.1.mlp.fc1', 'stages.1.blocks.1.mlp.act', 'stages.1.blocks.1.mlp.drop1', 'stages.1.blocks.1.mlp.norm', 'stages.1.blocks.1.mlp.fc2', 'stages.1.blocks.1.mlp.drop2', 'stages.1.blocks.1.shortcut', 'stages.1.blocks.1.drop_path', 'stages.1.blocks.2', 'stages.1.blocks.2.conv_dw', 'stages.1.blocks.2.norm', 'stages.1.blocks.2.mlp', 'stages.1.blocks.2.mlp.fc1', 'stages.1.blocks.2.mlp.act', 'stages.1.blocks.2.mlp.drop1', 'stages.1.blocks.2.mlp.norm', 'stages.1.blocks.2.mlp.fc2', 'stages.1.blocks.2.mlp.drop2', 'stages.1.blocks.2.shortcut', 'stages.1.blocks.2.drop_path', 'stages.2', 'stages.2.downsample', 'stages.2.downsample.0', 'stages.2.downsample.1', 'stages.2.blocks', 'stages.2.blocks.0', 'stages.2.blocks.0.conv_dw', 'stages.2.blocks.0.norm', 'stages.2.blocks.0.mlp', 'stages.2.blocks.0.mlp.fc1', 'stages.2.blocks.0.mlp.act', 'stages.2.blocks.0.mlp.drop1', 'stages.2.blocks.0.mlp.norm', 'stages.2.blocks.0.mlp.fc2', 'stages.2.blocks.0.mlp.drop2', 'stages.2.blocks.0.shortcut', 'stages.2.blocks.0.drop_path', 'stages.2.blocks.1', 'stages.2.blocks.1.conv_dw', 'stages.2.blocks.1.norm', 'stages.2.blocks.1.mlp', 'stages.2.blocks.1.mlp.fc1', 'stages.2.blocks.1.mlp.act', 'stages.2.blocks.1.mlp.drop1', 'stages.2.blocks.1.mlp.norm', 'stages.2.blocks.1.mlp.fc2', 'stages.2.blocks.1.mlp.drop2', 'stages.2.blocks.1.shortcut', 'stages.2.blocks.1.drop_path', 'stages.2.blocks.2', 'stages.2.blocks.2.conv_dw', 'stages.2.blocks.2.norm', 'stages.2.blocks.2.mlp', 'stages.2.blocks.2.mlp.fc1', 'stages.2.blocks.2.mlp.act', 'stages.2.blocks.2.mlp.drop1', 'stages.2.blocks.2.mlp.norm', 'stages.2.blocks.2.mlp.fc2', 'stages.2.blocks.2.mlp.drop2', 'stages.2.blocks.2.shortcut', 'stages.2.blocks.2.drop_path', 'stages.2.blocks.3', 'stages.2.blocks.3.conv_dw', 'stages.2.blocks.3.norm', 'stages.2.blocks.3.mlp', 'stages.2.blocks.3.mlp.fc1', 'stages.2.blocks.3.mlp.act', 'stages.2.blocks.3.mlp.drop1', 'stages.2.blocks.3.mlp.norm', 'stages.2.blocks.3.mlp.fc2', 'stages.2.blocks.3.mlp.drop2', 'stages.2.blocks.3.shortcut', 'stages.2.blocks.3.drop_path', 'stages.2.blocks.4', 'stages.2.blocks.4.conv_dw', 'stages.2.blocks.4.norm', 'stages.2.blocks.4.mlp', 'stages.2.blocks.4.mlp.fc1', 'stages.2.blocks.4.mlp.act', 'stages.2.blocks.4.mlp.drop1', 'stages.2.blocks.4.mlp.norm', 'stages.2.blocks.4.mlp.fc2', 'stages.2.blocks.4.mlp.drop2', 'stages.2.blocks.4.shortcut', 'stages.2.blocks.4.drop_path', 'stages.2.blocks.5', 'stages.2.blocks.5.conv_dw', 'stages.2.blocks.5.norm', 'stages.2.blocks.5.mlp', 'stages.2.blocks.5.mlp.fc1', 'stages.2.blocks.5.mlp.act', 'stages.2.blocks.5.mlp.drop1', 'stages.2.blocks.5.mlp.norm', 'stages.2.blocks.5.mlp.fc2', 'stages.2.blocks.5.mlp.drop2', 'stages.2.blocks.5.shortcut', 'stages.2.blocks.5.drop_path', 'stages.2.blocks.6', 'stages.2.blocks.6.conv_dw', 'stages.2.blocks.6.norm', 'stages.2.blocks.6.mlp', 'stages.2.blocks.6.mlp.fc1', 'stages.2.blocks.6.mlp.act', 'stages.2.blocks.6.mlp.drop1', 'stages.2.blocks.6.mlp.norm', 'stages.2.blocks.6.mlp.fc2', 'stages.2.blocks.6.mlp.drop2', 'stages.2.blocks.6.shortcut', 'stages.2.blocks.6.drop_path', 'stages.2.blocks.7', 'stages.2.blocks.7.conv_dw', 'stages.2.blocks.7.norm', 'stages.2.blocks.7.mlp', 'stages.2.blocks.7.mlp.fc1', 'stages.2.blocks.7.mlp.act', 'stages.2.blocks.7.mlp.drop1', 'stages.2.blocks.7.mlp.norm', 'stages.2.blocks.7.mlp.fc2', 'stages.2.blocks.7.mlp.drop2', 'stages.2.blocks.7.shortcut', 'stages.2.blocks.7.drop_path', 'stages.2.blocks.8', 'stages.2.blocks.8.conv_dw', 'stages.2.blocks.8.norm', 'stages.2.blocks.8.mlp', 'stages.2.blocks.8.mlp.fc1', 'stages.2.blocks.8.mlp.act', 'stages.2.blocks.8.mlp.drop1', 'stages.2.blocks.8.mlp.norm', 'stages.2.blocks.8.mlp.fc2', 'stages.2.blocks.8.mlp.drop2', 'stages.2.blocks.8.shortcut', 'stages.2.blocks.8.drop_path', 'stages.2.blocks.9', 'stages.2.blocks.9.conv_dw', 'stages.2.blocks.9.norm', 'stages.2.blocks.9.mlp', 'stages.2.blocks.9.mlp.fc1', 'stages.2.blocks.9.mlp.act', 'stages.2.blocks.9.mlp.drop1', 'stages.2.blocks.9.mlp.norm', 'stages.2.blocks.9.mlp.fc2', 'stages.2.blocks.9.mlp.drop2', 'stages.2.blocks.9.shortcut', 'stages.2.blocks.9.drop_path', 'stages.2.blocks.10', 'stages.2.blocks.10.conv_dw', 'stages.2.blocks.10.norm', 'stages.2.blocks.10.mlp', 'stages.2.blocks.10.mlp.fc1', 'stages.2.blocks.10.mlp.act', 'stages.2.blocks.10.mlp.drop1', 'stages.2.blocks.10.mlp.norm', 'stages.2.blocks.10.mlp.fc2', 'stages.2.blocks.10.mlp.drop2', 'stages.2.blocks.10.shortcut', 'stages.2.blocks.10.drop_path', 'stages.2.blocks.11', 'stages.2.blocks.11.conv_dw', 'stages.2.blocks.11.norm', 'stages.2.blocks.11.mlp', 'stages.2.blocks.11.mlp.fc1', 'stages.2.blocks.11.mlp.act', 'stages.2.blocks.11.mlp.drop1', 'stages.2.blocks.11.mlp.norm', 'stages.2.blocks.11.mlp.fc2', 'stages.2.blocks.11.mlp.drop2', 'stages.2.blocks.11.shortcut', 'stages.2.blocks.11.drop_path', 'stages.2.blocks.12', 'stages.2.blocks.12.conv_dw', 'stages.2.blocks.12.norm', 'stages.2.blocks.12.mlp', 'stages.2.blocks.12.mlp.fc1', 'stages.2.blocks.12.mlp.act', 'stages.2.blocks.12.mlp.drop1', 'stages.2.blocks.12.mlp.norm', 'stages.2.blocks.12.mlp.fc2', 'stages.2.blocks.12.mlp.drop2', 'stages.2.blocks.12.shortcut', 'stages.2.blocks.12.drop_path', 'stages.2.blocks.13', 'stages.2.blocks.13.conv_dw', 'stages.2.blocks.13.norm', 'stages.2.blocks.13.mlp', 'stages.2.blocks.13.mlp.fc1', 'stages.2.blocks.13.mlp.act', 'stages.2.blocks.13.mlp.drop1', 'stages.2.blocks.13.mlp.norm', 'stages.2.blocks.13.mlp.fc2', 'stages.2.blocks.13.mlp.drop2', 'stages.2.blocks.13.shortcut', 'stages.2.blocks.13.drop_path', 'stages.2.blocks.14', 'stages.2.blocks.14.conv_dw', 'stages.2.blocks.14.norm', 'stages.2.blocks.14.mlp', 'stages.2.blocks.14.mlp.fc1', 'stages.2.blocks.14.mlp.act', 'stages.2.blocks.14.mlp.drop1', 'stages.2.blocks.14.mlp.norm', 'stages.2.blocks.14.mlp.fc2', 'stages.2.blocks.14.mlp.drop2', 'stages.2.blocks.14.shortcut', 'stages.2.blocks.14.drop_path', 'stages.2.blocks.15', 'stages.2.blocks.15.conv_dw', 'stages.2.blocks.15.norm', 'stages.2.blocks.15.mlp', 'stages.2.blocks.15.mlp.fc1', 'stages.2.blocks.15.mlp.act', 'stages.2.blocks.15.mlp.drop1', 'stages.2.blocks.15.mlp.norm', 'stages.2.blocks.15.mlp.fc2', 'stages.2.blocks.15.mlp.drop2', 'stages.2.blocks.15.shortcut', 'stages.2.blocks.15.drop_path', 'stages.2.blocks.16', 'stages.2.blocks.16.conv_dw', 'stages.2.blocks.16.norm', 'stages.2.blocks.16.mlp', 'stages.2.blocks.16.mlp.fc1', 'stages.2.blocks.16.mlp.act', 'stages.2.blocks.16.mlp.drop1', 'stages.2.blocks.16.mlp.norm', 'stages.2.blocks.16.mlp.fc2', 'stages.2.blocks.16.mlp.drop2', 'stages.2.blocks.16.shortcut', 'stages.2.blocks.16.drop_path', 'stages.2.blocks.17', 'stages.2.blocks.17.conv_dw', 'stages.2.blocks.17.norm', 'stages.2.blocks.17.mlp', 'stages.2.blocks.17.mlp.fc1', 'stages.2.blocks.17.mlp.act', 'stages.2.blocks.17.mlp.drop1', 'stages.2.blocks.17.mlp.norm', 'stages.2.blocks.17.mlp.fc2', 'stages.2.blocks.17.mlp.drop2', 'stages.2.blocks.17.shortcut', 'stages.2.blocks.17.drop_path', 'stages.2.blocks.18', 'stages.2.blocks.18.conv_dw', 'stages.2.blocks.18.norm', 'stages.2.blocks.18.mlp', 'stages.2.blocks.18.mlp.fc1', 'stages.2.blocks.18.mlp.act', 'stages.2.blocks.18.mlp.drop1', 'stages.2.blocks.18.mlp.norm', 'stages.2.blocks.18.mlp.fc2', 'stages.2.blocks.18.mlp.drop2', 'stages.2.blocks.18.shortcut', 'stages.2.blocks.18.drop_path', 'stages.2.blocks.19', 'stages.2.blocks.19.conv_dw', 'stages.2.blocks.19.norm', 'stages.2.blocks.19.mlp', 'stages.2.blocks.19.mlp.fc1', 'stages.2.blocks.19.mlp.act', 'stages.2.blocks.19.mlp.drop1', 'stages.2.blocks.19.mlp.norm', 'stages.2.blocks.19.mlp.fc2', 'stages.2.blocks.19.mlp.drop2', 'stages.2.blocks.19.shortcut', 'stages.2.blocks.19.drop_path', 'stages.2.blocks.20', 'stages.2.blocks.20.conv_dw', 'stages.2.blocks.20.norm', 'stages.2.blocks.20.mlp', 'stages.2.blocks.20.mlp.fc1', 'stages.2.blocks.20.mlp.act', 'stages.2.blocks.20.mlp.drop1', 'stages.2.blocks.20.mlp.norm', 'stages.2.blocks.20.mlp.fc2', 'stages.2.blocks.20.mlp.drop2', 'stages.2.blocks.20.shortcut', 'stages.2.blocks.20.drop_path', 'stages.2.blocks.21', 'stages.2.blocks.21.conv_dw', 'stages.2.blocks.21.norm', 'stages.2.blocks.21.mlp', 'stages.2.blocks.21.mlp.fc1', 'stages.2.blocks.21.mlp.act', 'stages.2.blocks.21.mlp.drop1', 'stages.2.blocks.21.mlp.norm', 'stages.2.blocks.21.mlp.fc2', 'stages.2.blocks.21.mlp.drop2', 'stages.2.blocks.21.shortcut', 'stages.2.blocks.21.drop_path', 'stages.2.blocks.22', 'stages.2.blocks.22.conv_dw', 'stages.2.blocks.22.norm', 'stages.2.blocks.22.mlp', 'stages.2.blocks.22.mlp.fc1', 'stages.2.blocks.22.mlp.act', 'stages.2.blocks.22.mlp.drop1', 'stages.2.blocks.22.mlp.norm', 'stages.2.blocks.22.mlp.fc2', 'stages.2.blocks.22.mlp.drop2', 'stages.2.blocks.22.shortcut', 'stages.2.blocks.22.drop_path', 'stages.2.blocks.23', 'stages.2.blocks.23.conv_dw', 'stages.2.blocks.23.norm', 'stages.2.blocks.23.mlp', 'stages.2.blocks.23.mlp.fc1', 'stages.2.blocks.23.mlp.act', 'stages.2.blocks.23.mlp.drop1', 'stages.2.blocks.23.mlp.norm', 'stages.2.blocks.23.mlp.fc2', 'stages.2.blocks.23.mlp.drop2', 'stages.2.blocks.23.shortcut', 'stages.2.blocks.23.drop_path', 'stages.2.blocks.24', 'stages.2.blocks.24.conv_dw', 'stages.2.blocks.24.norm', 'stages.2.blocks.24.mlp', 'stages.2.blocks.24.mlp.fc1', 'stages.2.blocks.24.mlp.act', 'stages.2.blocks.24.mlp.drop1', 'stages.2.blocks.24.mlp.norm', 'stages.2.blocks.24.mlp.fc2', 'stages.2.blocks.24.mlp.drop2', 'stages.2.blocks.24.shortcut', 'stages.2.blocks.24.drop_path', 'stages.2.blocks.25', 'stages.2.blocks.25.conv_dw', 'stages.2.blocks.25.norm', 'stages.2.blocks.25.mlp', 'stages.2.blocks.25.mlp.fc1', 'stages.2.blocks.25.mlp.act', 'stages.2.blocks.25.mlp.drop1', 'stages.2.blocks.25.mlp.norm', 'stages.2.blocks.25.mlp.fc2', 'stages.2.blocks.25.mlp.drop2', 'stages.2.blocks.25.shortcut', 'stages.2.blocks.25.drop_path', 'stages.2.blocks.26', 'stages.2.blocks.26.conv_dw', 'stages.2.blocks.26.norm', 'stages.2.blocks.26.mlp', 'stages.2.blocks.26.mlp.fc1', 'stages.2.blocks.26.mlp.act', 'stages.2.blocks.26.mlp.drop1', 'stages.2.blocks.26.mlp.norm', 'stages.2.blocks.26.mlp.fc2', 'stages.2.blocks.26.mlp.drop2', 'stages.2.blocks.26.shortcut', 'stages.2.blocks.26.drop_path', 'stages.3', 'stages.3.downsample', 'stages.3.downsample.0', 'stages.3.downsample.1', 'stages.3.blocks', 'stages.3.blocks.0', 'stages.3.blocks.0.conv_dw', 'stages.3.blocks.0.norm', 'stages.3.blocks.0.mlp', 'stages.3.blocks.0.mlp.fc1', 'stages.3.blocks.0.mlp.act', 'stages.3.blocks.0.mlp.drop1', 'stages.3.blocks.0.mlp.norm', 'stages.3.blocks.0.mlp.fc2', 'stages.3.blocks.0.mlp.drop2', 'stages.3.blocks.0.shortcut', 'stages.3.blocks.0.drop_path', 'stages.3.blocks.1', 'stages.3.blocks.1.conv_dw', 'stages.3.blocks.1.norm', 'stages.3.blocks.1.mlp', 'stages.3.blocks.1.mlp.fc1', 'stages.3.blocks.1.mlp.act', 'stages.3.blocks.1.mlp.drop1', 'stages.3.blocks.1.mlp.norm', 'stages.3.blocks.1.mlp.fc2', 'stages.3.blocks.1.mlp.drop2', 'stages.3.blocks.1.shortcut', 'stages.3.blocks.1.drop_path', 'stages.3.blocks.2', 'stages.3.blocks.2.conv_dw', 'stages.3.blocks.2.norm', 'stages.3.blocks.2.mlp', 'stages.3.blocks.2.mlp.fc1', 'stages.3.blocks.2.mlp.act', 'stages.3.blocks.2.mlp.drop1', 'stages.3.blocks.2.mlp.norm', 'stages.3.blocks.2.mlp.fc2', 'stages.3.blocks.2.mlp.drop2', 'stages.3.blocks.2.shortcut', 'stages.3.blocks.2.drop_path', 'norm_pre', 'head', 'head.global_pool', 'head.global_pool.pool', 'head.global_pool.flatten', 'head.norm', 'head.flatten', 'head.pre_logits', 'head.drop', 'head.fc'])\n"
     ]
    }
   ],
   "source": [
    "print(dict(model.named_modules()).keys())\n",
    "\n",
    "layers = ['stages.3.blocks.2','stages.2.blocks.26']"
   ]
  },
  {
   "cell_type": "markdown",
   "metadata": {},
   "source": [
    "# Manage NoisyNN "
   ]
  },
  {
   "cell_type": "markdown",
   "metadata": {},
   "source": [
    "## Manually"
   ]
  },
  {
   "cell_type": "markdown",
   "metadata": {},
   "source": [
    "### Instantiate NoisyNN instances to the model\n",
    "\n",
    "`n_layers_inject_per_batch`: max number of layers activated NoisyNN in a batch. The real number of layers activated will be `max(len(layers), n_layers_inject_per_batch)`"
   ]
  },
  {
   "cell_type": "code",
   "execution_count": 3,
   "metadata": {},
   "outputs": [
    {
     "name": "stdout",
     "output_type": "stream",
     "text": [
      "<--Trying to inject NoisyNN instances!-->\n",
      "---NoisyNN instance injected onto layer stages.2.blocks.26.---\n",
      "---NoisyNN instance injected onto layer stages.3.blocks.2.---\n",
      "<--All chosen layers are injected with NoisyNN instance!-->\n"
     ]
    }
   ],
   "source": [
    "nnn.inject_noisy_nn(model=model, layers_name= layers, n_layers_inject_per_batch= 1, inplace= True, verbose= True);\n",
    "# model_new = nnn.inject_noisy_nn(model=model, layers_name= layers, n_layers_inject_per_batch= 1, inplace= False, verbose= True)   <-- In case you don't want to mess with the original model"
   ]
  },
  {
   "cell_type": "markdown",
   "metadata": {},
   "source": [
    "### Doing what ever you want here with NoisyNN injected model"
   ]
  },
  {
   "cell_type": "code",
   "execution_count": 4,
   "metadata": {},
   "outputs": [
    {
     "name": "stdout",
     "output_type": "stream",
     "text": [
      "Layer stages.3.blocks.2 is chosen!\n"
     ]
    }
   ],
   "source": [
    "with nnn.debug_mode(True):   # <-- Just call the debug function, in this case will print the chosen layer.\n",
    "    model(inp);"
   ]
  },
  {
   "cell_type": "markdown",
   "metadata": {},
   "source": [
    "### Remove NoisyNN instances from the model"
   ]
  },
  {
   "cell_type": "code",
   "execution_count": 5,
   "metadata": {},
   "outputs": [
    {
     "name": "stdout",
     "output_type": "stream",
     "text": [
      "<---Trying to remove NoisyNN!!!--->\n",
      "---NoisyNN instance removed from layer stages.2.blocks.26.---\n",
      "---NoisyNN instance removed from layer stages.3.blocks.2.---\n",
      "<--All injected NoisyNN instances have been removed!-->\n"
     ]
    }
   ],
   "source": [
    "nnn.remove_noisy_nn(model=model, inplace= True, verbose= True);\n",
    "# model_new = nnn.remove_noisy_nn(model=model, inplace= False, verbose= True)  <-- In case you want to keep the NoisyNN injected model?"
   ]
  },
  {
   "cell_type": "markdown",
   "metadata": {},
   "source": [
    "## Automatically"
   ]
  },
  {
   "cell_type": "markdown",
   "metadata": {},
   "source": [
    "### As a context manager"
   ]
  },
  {
   "cell_type": "code",
   "execution_count": 6,
   "metadata": {},
   "outputs": [
    {
     "name": "stdout",
     "output_type": "stream",
     "text": [
      "<--Trying to inject NoisyNN instances!-->\n",
      "---NoisyNN instance injected onto layer stages.2.blocks.26.---\n",
      "---NoisyNN instance injected onto layer stages.3.blocks.2.---\n",
      "<--All chosen layers are injected with NoisyNN instance!-->\n",
      "Layer stages.3.blocks.2 is chosen!\n",
      "<---Trying to remove NoisyNN!!!--->\n",
      "---NoisyNN instance removed from layer stages.2.blocks.26.---\n",
      "---NoisyNN instance removed from layer stages.3.blocks.2.---\n",
      "<--All injected NoisyNN instances have been removed!-->\n"
     ]
    }
   ],
   "source": [
    "with nnn.noisy_nn(model):\n",
    "    with nnn.debug_mode(enabled= True): # <-- Just call the debug function, in this case will print the chosen layer.\n",
    "        model(inp);"
   ]
  },
  {
   "cell_type": "markdown",
   "metadata": {},
   "source": [
    "### As a decorator"
   ]
  },
  {
   "cell_type": "code",
   "execution_count": 7,
   "metadata": {},
   "outputs": [
    {
     "name": "stdout",
     "output_type": "stream",
     "text": [
      "<--Trying to inject NoisyNN instances!-->\n",
      "---NoisyNN instance injected onto layer stages.2.blocks.26.---\n",
      "---NoisyNN instance injected onto layer stages.3.blocks.2.---\n",
      "<--All chosen layers are injected with NoisyNN instance!-->\n",
      "Layer stages.3.blocks.2 is chosen!\n",
      "<---Trying to remove NoisyNN!!!--->\n",
      "---NoisyNN instance removed from layer stages.2.blocks.26.---\n",
      "---NoisyNN instance removed from layer stages.3.blocks.2.---\n",
      "<--All injected NoisyNN instances have been removed!-->\n"
     ]
    }
   ],
   "source": [
    "@nnn.noisy_nn(model)\n",
    "def infer():\n",
    "    model(inp);\n",
    "\n",
    "with nnn.debug_mode(enabled= True): # <-- Just call the debug function, in this case will print the chosen layer.\n",
    "    infer()"
   ]
  },
  {
   "cell_type": "markdown",
   "metadata": {},
   "source": [
    "# Debugging NoisyNN \n",
    "\n",
    "\n",
    "Currently, default debugging only support printing out the chosen layer name. For further customization, see `default_function.py`"
   ]
  }
 ],
 "metadata": {
  "kernelspec": {
   "display_name": "base",
   "language": "python",
   "name": "python3"
  },
  "language_info": {
   "codemirror_mode": {
    "name": "ipython",
    "version": 3
   },
   "file_extension": ".py",
   "mimetype": "text/x-python",
   "name": "python",
   "nbconvert_exporter": "python",
   "pygments_lexer": "ipython3",
   "version": "3.11.5"
  }
 },
 "nbformat": 4,
 "nbformat_minor": 2
}
